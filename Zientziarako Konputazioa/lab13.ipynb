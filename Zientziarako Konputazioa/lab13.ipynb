{
 "cells": [
  {
   "cell_type": "markdown",
   "metadata": {},
   "source": [
    "# Koma higikorreko aritmetika, eta logaritmo bitarraren eta erro kubikoaren hurbilpena"
   ]
  },
  {
   "cell_type": "markdown",
   "metadata": {},
   "source": [
    "Float64 motako zenbakiak UInt64 motatako gisa interpretatuz, logaritmo bitarraren hurbilpen sinplea eta azkarra lor daiteke. Logaritmo bitarraren hurbilpenean oinarrituta, erro kubikoaren (edo beste edozein erroren) hurbilpena lor daiteke.\n",
    "\n",
    "Praktika honen egitura honakoa da:\n",
    "\n",
    "<ul id=\"top\">\n",
    "<li><a href=\"#1---Koma-higikorreko-zenbakiekin-zenbait-proba\"> \n",
    "    1 - Koma higikorreko zenbakiekin zenbait proba </a></li>\n",
    "<li><a href=\"#2---Koma-higikorreko-zenbakien-adierazpena\"> \n",
    "    2 - Koma higikorreko zenbakien adierazpena </a></li>\n",
    "<li><a href=\"#3---Logaritmo-bitarraren-hurbilpen-sinplea\"> \n",
    "    3 - Logaritmo bitarraren hurbilpen sinplea </a></li>\n",
    "<li><a href=\"#4---Erro-kubikoaren-hurbilpen-azkarra\">\n",
    "    4 - Erro kubikoaren hurbilpen azkarra</a></li>\n",
    "<li><a href=\"#5---Erro-kubikoaren-kalkulua-Newton-Raphson-erabiliz\">\n",
    "    5 - Erro kubikoaren kalkulua Newton-Raphson erabiliz</a></li>\n",
    "</ul>  \n",
    "\n",
    "Praktika hau egin ahal izateko honako paketea erabiliko dugu:"
   ]
  },
  {
   "cell_type": "code",
   "execution_count": null,
   "metadata": {},
   "outputs": [],
   "source": [
    "using Plots"
   ]
  },
  {
   "cell_type": "markdown",
   "metadata": {},
   "source": [
    "<a href=\"#top\">Hasierara</a>\n",
    "\n",
    "## 1 - Koma higikorreko zenbakiekin zenbait proba"
   ]
  },
  {
   "cell_type": "markdown",
   "metadata": {},
   "source": [
    "#### 1.1 Baturaren biderkaketarekiko banagarritasun propietatearen arabera, edozein $x$ eta $y$ zenbaki errealetarako, $a(x, y) = b(x,y)$ non \n",
    "$$\n",
    "a(x,y) = x^2 -y^2, \\quad\n",
    "b(x,y) = (x-y)(x+y)\n",
    "$$\n",
    "\n",
    "**diren. Bi espresio horiek auzaz aukeratutako $x, y \\in [0,1]$ hainbat baliotarako kalkulatu ($40$ proba egin), eta $a(x, y) - b(x,y)$ zero den egiaztatu.** "
   ]
  },
  {
   "cell_type": "code",
   "execution_count": null,
   "metadata": {},
   "outputs": [],
   "source": [
    "N = 40\n",
    "for j in 1:N\n",
    "    x = rand()\n",
    "    y = rand()\n",
    "    a = ?\n",
    "    b = ?\n",
    "    dif = a-b\n",
    "    if dif != 0\n",
    "        println(\"x=$x, y=$y, a-b=$dif\")\n",
    "    end\n",
    "end"
   ]
  },
  {
   "cell_type": "markdown",
   "metadata": {},
   "source": [
    "#### 1.2 Banagarritasun propietatea kasu guztietan bete al da?  Zein izan daiteke arrazoia?\n",
    ">\n",
    "> Erantzuna hemen idatzi"
   ]
  },
  {
   "cell_type": "markdown",
   "metadata": {},
   "source": [
    "#### 1.3 Baturaren elkartze propietatearen arabera,  edozein $N$ zenbaki arruntetarako, ondoko bi espresioek emaitza bera eman beharko lukete\n",
    "\\begin{align*}\n",
    "a(N) &= \\left(\\left( \\cdots \\left( \\left( \\left( \\left(1 + \\frac{1}{2^2}\\right) + \\frac{1}{3^2} \\right) + \\frac{1}{4^2} \\right) + \\frac{1}{5^2} \\right) + \\cdots + \\frac{1}{(N-2)^2}  \\right) + \\frac{1}{(N-1)^2}\\right) + \\frac{1}{N^2}, \\\\ \n",
    "b(N) &= \\left( 1 + \\left( \\frac{1}{2^2} + \\left( \\frac{1}{3^2} + \\left( \\frac{1}{4^2} + \\left( \\frac{1}{5^2} + \\cdots + \\left(\\frac{1}{(N-2)^2} +\\left(\\frac{1}{(N-1)^2} + \\frac{1}{N^2} \\right)\\right) \\cdots \\right) \\right) \\right)\\right) \\right)\n",
    "\\end{align*}\n",
    "\n",
    "Bi espresio horiek kalkulatu $N=10^7$ kasurako,  eta bien balioak konparatu.\n"
   ]
  },
  {
   "cell_type": "code",
   "execution_count": null,
   "metadata": {},
   "outputs": [],
   "source": [
    "function afun(N)\n",
    "    a = 0\n",
    "    ...\n",
    "    return a\n",
    "end"
   ]
  },
  {
   "cell_type": "code",
   "execution_count": null,
   "metadata": {},
   "outputs": [],
   "source": [
    "function bfun(N)\n",
    "    b = 0.\n",
    "    ...\n",
    "    return b\n",
    "end"
   ]
  },
  {
   "cell_type": "code",
   "execution_count": null,
   "metadata": {},
   "outputs": [],
   "source": [
    "N=10^7\n",
    "(afun(N), bfun(N))"
   ]
  },
  {
   "cell_type": "markdown",
   "metadata": {},
   "source": [
    "#### 1.4 Elkartze propietatea kasu honetan bete al da? \n",
    ">\n",
    "> Erantzuna hemen idatzi"
   ]
  },
  {
   "cell_type": "markdown",
   "metadata": {},
   "source": [
    "<a href=\"#top\">Hasierara</a>\n",
    "\n",
    "## 2 - Koma higikorreko zenbakien adierazpena"
   ]
  },
  {
   "cell_type": "markdown",
   "metadata": {},
   "source": [
    "Julian, defektuz erabiltzen den koma higikorreko aritmetika IEEE 754 - 2008 estandarreko binary64 (doitasun bikoitzeko aritmetika) da. Xehetasunak hemen ikus daitezke:\n",
    "\n",
    "https://es.wikipedia.org/wiki/Formato_en_coma_flotante_de_doble_precisi%C3%B3n\n",
    "\n",
    "Julian, koma higikorreko zenbaki horiek **Float64** motakoak direla esaten da."
   ]
  },
  {
   "cell_type": "markdown",
   "metadata": {},
   "source": [
    "Julia lenguaian, koma higikorreko edozein $x$ zenbaki emanik, sign(x), significand(x), eta exponent(x) funtzioen bidez lor daiteke $x$ zenbakiaren adierazpen normalizatu bitarra, non  \n",
    "$$\n",
    "x=\\mathrm{sign}(x) \\times \\mathrm{significand}(x) \\times 2^{\\mathrm{exponent}(x)}\n",
    "$$ \n",
    "den.\n",
    "\n",
    "#### 2.1 Ondoko kode gelatxoa hainbat alditan exekutatu, egiaztatzeko beti betetzen dela $x=\\mathrm{sign}(x) \\times \\mathrm{significand}(x) \\times 2^{\\mathrm{exponent}(x)}$ berdintza."
   ]
  },
  {
   "cell_type": "code",
   "execution_count": null,
   "metadata": {},
   "outputs": [],
   "source": [
    "x = 2*rand()-1  # [-1,1] tarteko zenbaki bat\n",
    "x - sign(x)*abs(significand(x))*2.0^exponent(x)"
   ]
  },
  {
   "cell_type": "markdown",
   "metadata": {},
   "source": [
    "Julia lenguaian, $x$ koma higikorreko zenbakiak biten zerrenda gisa nola gordeta dauden ikusteko bitstring(x) egin daiteke.\n",
    "\n",
    "#### 2.2 Ondoko kode gelatxoa hainbat alditan exekutatu, $[-1,1$ tartean auzaz aukeratutako $x$ zenbakirako, $x$, $-x$, $2x$, $x/2$ zenbakien  biten edukiera aztertzeko eta konparatzeko.  Goiko wikipediako orriko informazioa erabili emaitzak ulertzen saiatzeko.\n",
    "\n",
    "_Oharra_: Kontutan hartu exponent(2x)=exponent(x)+1 eta exponent(x/2)=exponent(x)-1 betetzen direla."
   ]
  },
  {
   "cell_type": "code",
   "execution_count": 1,
   "metadata": {},
   "outputs": [
    {
     "ename": "SyntaxError",
     "evalue": "invalid decimal literal (3222640088.py, line 2)",
     "output_type": "error",
     "traceback": [
      "\u001b[0;36m  File \u001b[0;32m\"/tmp/ipykernel_10502/3222640088.py\"\u001b[0;36m, line \u001b[0;32m2\u001b[0m\n\u001b[0;31m    [bitstring(x), bitstring(-x), bitstring(2x), bitstring(x/2)]\u001b[0m\n\u001b[0m                                            ^\u001b[0m\n\u001b[0;31mSyntaxError\u001b[0m\u001b[0;31m:\u001b[0m invalid decimal literal\n"
     ]
    }
   ],
   "source": [
    "x = 2*rand()-1  # [-1,1] tarteko zenbaki bat\n",
    "[bitstring(x), bitstring(-x), bitstring(2x), bitstring(x/2)]  "
   ]
  },
  {
   "cell_type": "markdown",
   "metadata": {},
   "source": [
    "#### 2.3 Ondoko kodea osotu bistring(x) eta bitstring(A+B+C) berdinak izan daitezen. Honen helburua, koma higikorreko zenbakiak biten bidez nola gordetzen den ulertzea da. \n",
    "_Oharra_: Zenbaki oso positiboa adierazten duen koma higikorreko zenbakiak UInt64 moduan gorde daitezke (64-bit Unsigned Integer). Adibidez, Float64 gisa gordeta dagoen $a=15.$ zenbakia, UInt64 gisa gordetzeko, A=convert(UInt64,a) egin dezakegu. Zenbaki bera adierazten duten arren, bitstring(a) eta bitstring(A) desberdinak dira, 15 zenbakia bi kasuetan modu desberdinean dagoelako gordeta (kodetuta)."
   ]
  },
  {
   "cell_type": "code",
   "execution_count": null,
   "metadata": {},
   "outputs": [],
   "source": [
    "x = 2*rand()-1\n",
    "A = convert(UInt64,exponent(x)+1023) * 2^?\n",
    "B = convert(UInt64,(abs(significand(x)) - 1)*2^?)\n",
    "C = convert(UInt64,(1-sign(x))/2) * 2^?\n",
    "[bitstring(x),\n",
    " bitstring(A + B + C)]"
   ]
  },
  {
   "cell_type": "markdown",
   "metadata": {},
   "source": [
    "<a href=\"#top\">Hasierara</a>\n",
    "\n",
    "\n",
    "## 3 - Logaritmo bitarraren hurbilpen sinplea\n",
    "\n",
    "Ondoko funtzioak, logaritmo bitarraren hurbilpen sinplea eta azkarra ematen du\n"
   ]
  },
  {
   "cell_type": "code",
   "execution_count": null,
   "metadata": {},
   "outputs": [],
   "source": [
    "function log2F(x::Float64) \n",
    "    A = 2^52\n",
    "    B = 1023\n",
    "    σ = 0.0450466\n",
    "    X = reinterpret(UInt64,x)\n",
    "    return X/A - B + σ\n",
    "end"
   ]
  },
  {
   "cell_type": "markdown",
   "metadata": {},
   "source": [
    "_Oharra:_ Hemen, X=reinterpret(Uint64,x) egitean, X zenbaki positibo bat lortzen da (UInt64 motakoa), non bitstring(X) = bitstring(x).\n",
    "\n",
    "#### 3.1 Benetako log2(x) funtzioaren eta log2F(x) hurbilpenaren konparazio grafikoa egin, irudi berean bi funtzio horien  $x \\in [0.001,100]$ tarterako grafikoa marraztuz."
   ]
  },
  {
   "cell_type": "code",
   "execution_count": null,
   "metadata": {},
   "outputs": [],
   "source": []
  },
  {
   "cell_type": "markdown",
   "metadata": {},
   "source": [
    "#### 3.2 Grafiko berri bat sortu,  |log2F(x)-log2(x)| errorea irudikatzen duena $x \\in [0.001,100]$ tartean "
   ]
  },
  {
   "cell_type": "code",
   "execution_count": null,
   "metadata": {
    "scrolled": true
   },
   "outputs": [],
   "source": []
  },
  {
   "cell_type": "markdown",
   "metadata": {},
   "source": [
    "\n",
    "\n",
    "Ondoko funtzioa log2F(x) funtzioaren \"ia\" alderantzizkoa da, hau da, $\\approx 2^x$.\n"
   ]
  },
  {
   "cell_type": "code",
   "execution_count": null,
   "metadata": {},
   "outputs": [],
   "source": [
    "function biberF(x::Float64) \n",
    "    A = 2^52\n",
    "    B = 1023\n",
    "    σ = 0.0450466\n",
    "    reinterpret(Float64,convert(UInt64,(x - σ + B)*A))\n",
    "end"
   ]
  },
  {
   "cell_type": "markdown",
   "metadata": {},
   "source": [
    "#### 3.3 Grafikoki egiaztatu biberF(x) funtzioa log2F(x) funtzioaren ia alderantzizkoa dela. Hau da, biberF(log2F(x)) eta x antzekoak direla $x \\in [0.001,100]$ tartean. Horretarako, $biberF(log2F(x))-x$ diferentziaren grafikoa irudikatu  $x \\in [0.001,100]$ tartean."
   ]
  },
  {
   "cell_type": "code",
   "execution_count": null,
   "metadata": {
    "scrolled": true
   },
   "outputs": [],
   "source": [
    "..."
   ]
  },
  {
   "cell_type": "markdown",
   "metadata": {},
   "source": [
    "#### 3.4 Saiatu ulertzen (papera eta arkatza erabiliz) zergaitik den biberF(x) funtzioa log2F(x) funtzioaren ia alderantzizkoa. "
   ]
  },
  {
   "cell_type": "markdown",
   "metadata": {},
   "source": [
    "<a href=\"#top\">Hasierara</a>\n",
    "\n",
    "\n",
    "## 4 - Erro kubikoaren hurbilpen azkarra\n",
    "\n",
    "Logaritmo bitarraren log2F hurbilpen sinplean eta biberF bere gutxi gorabeherako alderantzizkoan oinarrituta, erro kubikoaren hurbilpen sinple eta azkarra lor daiteke. (Julian, $x$ zenbakiaren erro kubikoa $cbrt(x)$ eginez kalkula daiteke.)\n",
    "\n",
    "#### 4.1  Ondoko cbrtF funtzioaren inplementazioa osotu, erro kubikoaren hurbilpen sinplea eta azkarra eman dezan"
   ]
  },
  {
   "cell_type": "code",
   "execution_count": null,
   "metadata": {},
   "outputs": [],
   "source": [
    "function cbrtF(x::Float64)\n",
    "    y = log2F(x)/?\n",
    "    z =  biberF(y)\n",
    "    return z\n",
    "end "
   ]
  },
  {
   "cell_type": "markdown",
   "metadata": {},
   "source": [
    "#### 4.2 Benetako cbrt(x) funtzioaren eta cbrtF(x) hurbilpenaren konparazio grafikoa egin, irudi berean bi funtzio horien  $x \\in [0.001,100]$ tarterako grafikoa marraztuz."
   ]
  },
  {
   "cell_type": "code",
   "execution_count": null,
   "metadata": {},
   "outputs": [],
   "source": [
    "..."
   ]
  },
  {
   "cell_type": "markdown",
   "metadata": {},
   "source": [
    "#### 4.3 Grafiko berri bat sortu,  |cbrtF(x)-cbrt(x)| errorea irudikatzen duena $x \\in [0.01,100]$ tartean "
   ]
  },
  {
   "cell_type": "code",
   "execution_count": null,
   "metadata": {},
   "outputs": [],
   "source": [
    "..."
   ]
  },
  {
   "cell_type": "markdown",
   "metadata": {},
   "source": [
    "#### 4.4  Erro kubikoaren hurbilpena kalkulatzen duen cbrtF funtzioaren inplementazioa sinplifika daitekeela ikus daiteke. Ondoko cbrtF2 funtzioaren inplementazioa osotu, cbrtF funtzioaren inplementazio sinplifikatua lortzeko.  \n",
    "_Oharra_: Galdera ikurraren ordez jarri behar dena UInt64 zenbaki konkretu bat da. Lehenengo, hainbat eragiketa aritmetiko egin ondoren lortzen den a::Float64 zenbakitik gertuen dagoen zenbaki osoa lortuko dugu round(a) eginez, eta ondoren hau UInt64 gisa adieraziko dugu (convert(UInt64,round(a)) eginez)."
   ]
  },
  {
   "cell_type": "code",
   "execution_count": null,
   "metadata": {},
   "outputs": [],
   "source": [
    "function cbrtFb(x::Float64)\n",
    "    X = reinterpret(UInt64,x) \n",
    "    Y = ? + div(X,3)\n",
    "    y = reinterpret(Float64,Y)\n",
    "    return y\n",
    "end  "
   ]
  },
  {
   "cell_type": "markdown",
   "metadata": {},
   "source": [
    "#### 4.5 Grafiko berri bat sortu,  |cbrtF(x)-cbrtFb(x)| diferentzia irudikatzen duena $x \\in [0.01,100]$ tartean "
   ]
  },
  {
   "cell_type": "code",
   "execution_count": null,
   "metadata": {
    "scrolled": true
   },
   "outputs": [],
   "source": [
    "..."
   ]
  },
  {
   "cell_type": "markdown",
   "metadata": {},
   "source": [
    "Ikusten denez, cbrtF(x) eta cbrtFb(x) funtzioak ez dute zehazki balio berak ematen, baina oso balio antzekoak lortzen dira. Bestalde, cbrtFb(x) funtzioa sinplea eta balioztatzen oso azkarra da."
   ]
  },
  {
   "cell_type": "markdown",
   "metadata": {},
   "source": [
    "<a href=\"#top\">Hasierara</a>\n",
    "\n",
    "## 5 - Erro kubikoaren kalkulua Newton-Raphson erabiliz\n",
    "\n",
    "Erro kubikoa kalkulatzeko, hau da, $a>0$ emanik $\\sqrt[3]{a}$ kalkulatzeko, $x^3-a=0$ ekuaziorako Newton-Raphson-en metodoa aplika daiteke. Hori egiten duen funtzio bat inplementatu, hasierako hurbilpen gisa $\\mathrm{cbrtFb}(a)$ hartzen duena, eta Newton-Raphson-en iterazioak aplikatuz, ahal duen hurbilpenik onena lortzen duena. (Oharra: trace=true denean, iterazio bakoitzean iterazio kopurua, x hurbilpena, eta x^3-a bistaratuko dira.)"
   ]
  },
  {
   "cell_type": "code",
   "execution_count": null,
   "metadata": {},
   "outputs": [],
   "source": [
    "function cbrtNewton(a, trace=false, itermax=100)\n",
    "    x = cbrtFb(a)\n",
    "    ... \n",
    "    return x\n",
    "end"
   ]
  },
  {
   "cell_type": "markdown",
   "metadata": {},
   "source": [
    "#### 5.1 Probatu cbrtnewton funtzioa $\\sqrt[3]{2}$ kalkulatzeko, eta ikusi nola konbergitzen duen (trace=true jarrita)."
   ]
  },
  {
   "cell_type": "code",
   "execution_count": null,
   "metadata": {},
   "outputs": [],
   "source": [
    "..."
   ]
  },
  {
   "cell_type": "markdown",
   "metadata": {},
   "source": [
    "<a href=\"#top\">Hasierara</a>"
   ]
  }
 ],
 "metadata": {
  "kernelspec": {
   "display_name": "Python 3.10.6 64-bit",
   "language": "python",
   "name": "python3"
  },
  "language_info": {
   "codemirror_mode": {
    "name": "ipython",
    "version": 3
   },
   "file_extension": ".py",
   "mimetype": "text/x-python",
   "name": "python",
   "nbconvert_exporter": "python",
   "pygments_lexer": "ipython3",
   "version": "3.10.6"
  },
  "vscode": {
   "interpreter": {
    "hash": "31f2aee4e71d21fbe5cf8b01ff0e069b9275f58929596ceb00d14d90e3e16cd6"
   }
  }
 },
 "nbformat": 4,
 "nbformat_minor": 2
}
