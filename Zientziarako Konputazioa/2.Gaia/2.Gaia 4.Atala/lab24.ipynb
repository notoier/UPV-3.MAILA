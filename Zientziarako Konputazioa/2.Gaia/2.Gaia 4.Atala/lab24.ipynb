{
 "cells": [
  {
   "cell_type": "markdown",
   "metadata": {},
   "source": [
    "IZENA:\n",
    "\n",
    "ABIZENAK:"
   ]
  },
  {
   "cell_type": "markdown",
   "metadata": {},
   "source": [
    "# Lurraren inguruan biraka dabilen satelite artifizialaren simulazioa\n",
    "\n",
    "Praktika honetan, honako paketa kargatu behar da:"
   ]
  },
  {
   "cell_type": "code",
   "execution_count": null,
   "metadata": {},
   "outputs": [],
   "source": [
    "using Plots"
   ]
  },
  {
   "cell_type": "markdown",
   "metadata": {},
   "source": [
    "Biraka dabilen satelite artifiziala lurraren erakarpen indarra jasaten du. Erakarpen horren eredu matematiko sinplifikatu bat kontsideratuko dugu. Kontutan hartuko dugu lurra erabat esferikoa ez dela, eta poloetan zapalduta dagoen elipsoide bat dela suposatuko dugu, masa dentsitate uniformea duena. Eredu matematiko honetan,\n",
    "Bestalde, ilargia, eguzkia, eta gainerako astroen erakarpen indarra ez ditugu kontutan hartuko gure eredu matematikoan, ez eta ere atmosferaren erresistentzia.\n",
    "\n",
    "Satelitearen kokapena $t$ unean zein den zehazteko, $(x(t),y(t),z(t))$ koordenatu kartesiarrak erabiliko ditugu, $(0,0,0)$ jatorria lurraren erdigunea delarik, eta ekuadorra XY planoan dagoelarik. Bestalde, $t$ uneko satelitearen abiadura $(v_x(t),v_y(t),v_z(t))$ adieraziko dugu.\n",
    "\n",
    " Gure eredu matematiko\n",
    "sinplifikatuan, honako ekuazio diferentzialen sistema betetzen\n",
    "da:\n",
    "\n",
    "  \\begin{align*}\n",
    " \\frac{d x}{dt} &= v_x,\\\\\n",
    " \\frac{d y}{dt} &= v_y,\\\\\n",
    " \\frac{d z}{dt} &= v_z,\\\\\n",
    "\\frac{d v_x}{dt} &= -\\mu \\frac{x}{r(x,y,z)^3} \\left(1 + \\frac{\\epsilon R^2}{r(x,y,z)^2}\\, F(x,y,z) \\right),\\\\ \n",
    "\\frac{d v_y}{dt} &= -\\mu \\frac{y}{r(x,y,z)^3} \\left(1 + \\frac{\\epsilon R^2}{r(x,y,z)^2}\\, F(x,y,z) \\right),\\\\ \n",
    "\\frac{d v_z}{dt} &= -\\mu \\frac{z}{r(x,y,z)^3} \\left(1 + \\frac{\\epsilon R^2}{r(x,y,z)^2}\\, G(x,y,z) \\right),\n",
    "    \\end{align*}\n",
    "    \n",
    "non $r(x,y,z)=\\sqrt{x^2+y^2+z^2}$ satelitea eta lurraren erdigunearen arteko distantzia den,\n",
    "\\begin{equation}\n",
    "\\label{eq:rFG}\n",
    "  F(x,y,z) = \\frac{3}{2} -  \\frac{15z^2}{2r(x,y,z)^2},  \n",
    "  \\quad G(x,y,z) = 3 + F(x,y,z),\n",
    "\\end{equation}\n",
    "diren, eta \n",
    "\n",
    "- $\\mu$ lurraren grabitate-konstantea den,\n",
    "\n",
    "- $R$ lurraren erradioa den, eta\n",
    "\n",
    "- $\\epsilon$  lurraren poloetako zapaldura-koefizientea den.\n",
    "\n",
    "Konkretuki, honako balioak ditugu,\n",
    "\n",
    "\\begin{equation*} \n",
    "    \\mu = 398600.8 \\, \\mbox{Km}^3/\\mbox{seg}^2, \\quad R = 6\\, 378.135\\, \\mbox{Km},  \\quad               \n",
    "    \\epsilon = 0.0010826157.\n",
    "\\end{equation*}"
   ]
  },
  {
   "cell_type": "markdown",
   "metadata": {},
   "source": [
    "- **¿Zein dira egoera aldagaiak?**\n",
    "\n",
    "_Erantzuna hemen idatzi_\n",
    "\n",
    "\n",
    "- **¿Zein dira problemaren parametro konstanteak?**\n",
    "\n",
    "_Erantzuna hemen idatzi_\n",
    "\n",
    "Jakina da goiko sistema modu trinkoan\n",
    "\n",
    "\\begin{equation*}\n",
    "\\frac{d}{dt} u = f(t,u,p). \\hspace{7em} (1)\n",
    "\\end{equation*}\n",
    "\n",
    "formatuan idatz daitekeela, non $u$ egoera aldagaien bektorea den, eta $p$ problemaren parametro konstanteak biltzen dituen bektorea den.\n",
    "\n",
    "\n",
    "\n",
    "- **Julia-n inplementatu $f$ funtzioa (sarrera argumentu gisa $t$ zenbakia, egoera aldagaien $u$ bektorea, eta parametro konstanteen $p$ bektorea dituena, eta irteera argumentu gisa sei osagaiko $du$ bektorea bueltatzen duena), satelitearen mugimenduaren ekuazio diferentzialen sistema (1) formatuan idazteko balio duena.**\n"
   ]
  },
  {
   "cell_type": "code",
   "execution_count": 6,
   "metadata": {},
   "outputs": [
    {
     "data": {
      "text/plain": [
       "r (generic function with 1 method)"
      ]
     },
     "metadata": {},
     "output_type": "display_data"
    }
   ],
   "source": [
    "function r(x,y,z)\n",
    "    return sqrt(x^2 + y^2 + z^2)\n",
    "end"
   ]
  },
  {
   "cell_type": "code",
   "execution_count": 4,
   "metadata": {},
   "outputs": [
    {
     "data": {
      "text/plain": [
       "F (generic function with 1 method)"
      ]
     },
     "metadata": {},
     "output_type": "display_data"
    }
   ],
   "source": [
    "function F(x, y,z) \n",
    "    return 3/2 - 15*z^2/2r(x,y,z)^2\n",
    "end"
   ]
  },
  {
   "cell_type": "code",
   "execution_count": 7,
   "metadata": {},
   "outputs": [
    {
     "data": {
      "text/plain": [
       "G (generic function with 1 method)"
      ]
     },
     "metadata": {},
     "output_type": "display_data"
    }
   ],
   "source": [
    "function G(x,y,z)\n",
    "    return 3 + F(x,y,z)\n",
    "end    "
   ]
  },
  {
   "cell_type": "code",
   "execution_count": 13,
   "metadata": {},
   "outputs": [
    {
     "data": {
      "text/plain": [
       "f (generic function with 1 method)"
      ]
     },
     "metadata": {},
     "output_type": "display_data"
    }
   ],
   "source": [
    "function f(t,u,p)\n",
    "    mu = p[1]\n",
    "    R = p[2]\n",
    "    eps = p[3]\n",
    "\n",
    "    x = u[1]\n",
    "    y = u[2]\n",
    "    z = u[3]\n",
    "\n",
    "    vx = u[4]\n",
    "    vy = u[5]\n",
    "    vz = u[6]\n",
    "    \n",
    "    dx = vx\n",
    "    dy = vy\n",
    "    dz = vz\n",
    "\n",
    "    dvx = -mu * (x/r(x,y,z)^3) * (1 + eps*R^2/r(x,y,z)^2 * F(x,y,z))\n",
    "    dvy = -mu * (y/r(x,y,z)^3) * (1 + eps*R^2/r(x,y,z)^2 * F(x,y,z))\n",
    "    dvz = -mu * (z/r(x,y,z)^3) * (1 + eps*R^2/r(x,y,z)^2 * G(x,y,z))\n",
    "\n",
    "    du = [dx, dy, dz, dvx, dvy, dvz]\n",
    "    return du\n",
    "end"
   ]
  },
  {
   "cell_type": "markdown",
   "metadata": {},
   "source": [
    "Inplementatutako f funtzioa egiaztatzeko,   f(1.,[2.,3.,4.,5.,6.,7.],[8.,9.,10.]) balioztatu. Emaitza gisa, ondoko taula bueltatu beharko luke:\n",
    "  [5.0, 6.0, 7.0, 7.44627, 11.1694, -2.2771]"
   ]
  },
  {
   "cell_type": "code",
   "execution_count": 14,
   "metadata": {},
   "outputs": [
    {
     "data": {
      "text/plain": [
       "6-element Vector{Float64}:\n",
       "  5.0\n",
       "  6.0\n",
       "  7.0\n",
       "  7.446269613831889\n",
       " 11.169404420747835\n",
       " -2.2771034556270133"
      ]
     },
     "metadata": {},
     "output_type": "display_data"
    }
   ],
   "source": [
    "f(1.,[2.,3.,4.,5.,6.,7.],[8.,9.,10.])"
   ]
  },
  {
   "cell_type": "markdown",
   "metadata": {},
   "source": [
    "Ikus daiteke satelitearen energia totala bere traiektorian zehar konstante mantentzen dela. Energia totala (energia zinetikoa gehi energia potentziala) eta satelitearen masaren arteko zatituta, honakoa da\n",
    "\\begin{equation*}\n",
    "\\frac12\\, (v_x^2 + v_y^2+ z_z^2) - \\frac{\\mu}{r(x,y,z)}\n",
    "-\\frac{\\mu \\, R^2 \\, \\epsilon }{2\\, \n",
    "   r(x,y,z)^3}+\\frac{3 \\,\\mu \\, R^2 \\, z^2 \\, \\epsilon }{2\\, r(x,y,z)^5}.\n",
    "   \\qquad (2)\n",
    "\\end{equation*}\n",
    "\n",
    "Hemendik aurrera, esprezio honi, sistemaren energia deituko diogu. \n",
    "\n",
    "Ariketa honetan zehar, adibide gisa honako hasierako baldintzak hartuko ditugu, $t_0=0$, eta \n",
    "\\begin{equation*}\n",
    "  \\begin{split}\n",
    " x(0) &=0\\, \\mbox{Km},\\  \\qquad y(0)=37947.73745727695 \\, \\mbox{Km},\\\\ \n",
    " z(0)&=0\\, \\mbox{Km}, \\quad v_x(0) =3.297676220718193 \\, \\mbox{Km/seg}, \\\\\n",
    " v_y(0)&=0\\,  \\mbox{Km/seg}, \\quad v_z(0)=0.8244190551795483\\,  \\mbox{Km/seg}.\n",
    "  \\end{split}\n",
    "\\end{equation*}\n",
    "\n",
    "- **Definitu satelitearen egoera jakin bakoitzerako energia kalkulatzen duen funtzioa.** Sarrera argumentu gisa, $u$ egoera bektorea eta $p$ parametro konstanteen bektorea hartuko ditu, eta irteeran, zenbaki erreal bat bueltatuko du, hain zuzen, (2) espresioan definitutako energiaren balioa."
   ]
  },
  {
   "cell_type": "code",
   "execution_count": 25,
   "metadata": {},
   "outputs": [
    {
     "data": {
      "text/plain": [
       "Energia (generic function with 1 method)"
      ]
     },
     "metadata": {},
     "output_type": "display_data"
    }
   ],
   "source": [
    "function Energia(u,p)\n",
    "    mu = p[1]\n",
    "    R = p[2]\n",
    "    epsilon = p[3]\n",
    "\n",
    "    x = u[1]\n",
    "    y = u[2]\n",
    "    z = u[3]\n",
    "\n",
    "    vx = u[4]\n",
    "    vy = u[5]\n",
    "    vz = u[6]\n",
    "    \n",
    "    energia = 1/2*(vx^2 + vy^2 + vz^2) - mu/r(x,y,z) - mu*R^2*epsilon/(2*r(x,y,z)^3) + 3*mu*R^2*z^2*epsilon/(2*r(x,y,z)^5)\n",
    "    return energia\n",
    "end"
   ]
  },
  {
   "cell_type": "markdown",
   "metadata": {},
   "source": [
    "- Zehaztutako parametro konstanteen baliotarako, **kalkulatu goian finkatutako satelitearen hasierako balioei dagokien energiaren balioa.** Konprobazio gisa, emaitzak -4.726934129991156  eman beharko luke"
   ]
  },
  {
   "cell_type": "code",
   "execution_count": 26,
   "metadata": {},
   "outputs": [
    {
     "data": {
      "text/plain": [
       "-4.726934129991156"
      ]
     },
     "metadata": {},
     "output_type": "display_data"
    }
   ],
   "source": [
    "mu = 398600.8\n",
    "R = 6378.135 \n",
    "epsilon = 0.0010826157\n",
    "p = [mu, R, epsilon]\n",
    "\n",
    "x = 0\n",
    "y = 37947.73745727695\n",
    "z = 0\n",
    "vx = 3.297676220718193\n",
    "vy = 0\n",
    "vz = 0.8244190551795483\n",
    "\n",
    "u0 = [x,y,z,vx,vy,vz]\n",
    "Energia(u0,p)"
   ]
  },
  {
   "cell_type": "markdown",
   "metadata": {},
   "source": [
    "Lurra esferikoa izango balitz,  $\\epsilon= 0$ izango genuke. Kasu horretan, goian emandako hasierako balio horiekin orbita eliptiko geosinkronoa izango genuke, hau da, orbita eliptiko periodiko\n",
    "bat, bere T periodoa lurraren errotazio-periodoarekin bat datorrena, alegia, 23 ordu, 56\n",
    "minutu, eta 4 segundu, hau da, \n",
    "\n",
    "\\begin{equation*}\n",
    "T = 86164 \\, \\mbox{seg}.\n",
    "\\end{equation*}\n",
    "\n",
    "Gure ereduan, aldiz,  $\\epsilon \\neq 0$ daukagu (lurra erabat esferikoa ez dela kontutan hartzen ari garelako),  eta  orbita ez da erabat periodikoa, baina bai ia periodikoa ($T$ denbora pasa ondoren, ia aurreko egoerara bueltatzen da satelitea). "
   ]
  },
  {
   "cell_type": "markdown",
   "metadata": {},
   "source": [
    "Hasiera batean, gure helburua $[0,T]$ denbora tarteko hainbat $t$ unetan satelitearen kokapen eta abiadurak kalkulatzea izango da, konkretuki, \n",
    "\n",
    "\\begin{equation*}\n",
    "t=\\frac{k \\, T}{100}, \\quad k=0,1,2,\\ldots,100 \\qquad (3)\n",
    "\\end{equation*}\n",
    "\n",
    "unetarako. "
   ]
  },
  {
   "cell_type": "markdown",
   "metadata": {},
   "source": [
    "- Kalkuluak egitko lau ordenako Runge-Kutta metodo klasikoa (RK4). Horretarako, lab24 laborategian inplementatutako **EulerHobetua funtzioaren sarrera argumentu eta irteera argumentu berak dituen funtzio bat sortu, lau ordenako Runge-Kutta metodoa inplementatzen duena**."
   ]
  },
  {
   "cell_type": "code",
   "execution_count": 42,
   "metadata": {},
   "outputs": [
    {
     "data": {
      "text/plain": [
       "RK4 (generic function with 2 methods)"
      ]
     },
     "metadata": {},
     "output_type": "display_data"
    }
   ],
   "source": [
    "function RK4(u0, t0, T, n, p, f, m = 1)\n",
    "    d = length(u0)\n",
    "    tt = zeros(n+1, )\n",
    "    uu = zeros(n+1, d)\n",
    "    tt[1] = t0\n",
    "    uu[1, :] = u0\n",
    "    tk = t0\n",
    "    uk = u0\n",
    "    h = (T-t0)/(n*m)\n",
    "    for k=1:n\n",
    "        for j=1:m\n",
    "            k1 = h * f(tk, uk)\n",
    "            k2 = h * f(tk + h/2, uk + 1/2*k1)\n",
    "            k3 = h * f(tk + h/2, uk + 1/2*k2)\n",
    "            k4 = h * f(tk + h, uk + k3)\n",
    "            tk += h\n",
    "            uk += uk + 1/6*(k1 + 2*k2 + 2*k3 + k4)\n",
    "        end\n",
    "        tt[k+1] = tk\n",
    "        uu[k+1, :] = uk\n",
    "    end\n",
    "    return tt, uu\n",
    "end"
   ]
  },
  {
   "cell_type": "markdown",
   "metadata": {},
   "source": [
    "- **RK4 metodoa aplikatu urrats luzera gisa $h=T/400$ erabiliz (3) unetarako satelitearen egoerak kalkulatzeko. Emaitza horietan oinarrituz, $x$, $y$, eta $z$ koordenatuen $[0,T]$ denbora tarteko eboluzioaren grafikoak irudi berean marraztu.**"
   ]
  },
  {
   "cell_type": "code",
   "execution_count": 43,
   "metadata": {},
   "outputs": [
    {
     "ename": "MethodError",
     "evalue": "MethodError: no method matching f(::Float64, ::Vector{Float64})\nClosest candidates are:\n  f(::Any, ::Any, !Matched::Any) at ~/Visual Studio Code Projects/UPV-3.MAILA/Zientziarako Konputazioa/2.Gaia/2.Gaia 4.Atala/lab24.ipynb:1",
     "output_type": "error",
     "traceback": [
      "MethodError: no method matching f(::Float64, ::Vector{Float64})\n",
      "Closest candidates are:\n",
      "  f(::Any, ::Any, !Matched::Any) at ~/Visual Studio Code Projects/UPV-3.MAILA/Zientziarako Konputazioa/2.Gaia/2.Gaia 4.Atala/lab24.ipynb:1\n",
      "\n",
      "Stacktrace:\n",
      " [1] RK4(u0::Vector{Float64}, t0::Int64, T::Int64, n::Int64, p::Vector{Float64}, f::typeof(f), m::Int64)\n",
      "   @ Main ~/Visual Studio Code Projects/UPV-3.MAILA/Zientziarako Konputazioa/2.Gaia/2.Gaia 4.Atala/lab24.ipynb:15\n",
      " [2] RK4(u0::Vector{Float64}, t0::Int64, T::Int64, n::Int64, p::Vector{Float64}, f::Function)\n",
      "   @ Main ~/Visual Studio Code Projects/UPV-3.MAILA/Zientziarako Konputazioa/2.Gaia/2.Gaia 4.Atala/lab24.ipynb:2\n",
      " [3] top-level scope\n",
      "   @ ~/Visual Studio Code Projects/UPV-3.MAILA/Zientziarako Konputazioa/2.Gaia/2.Gaia 4.Atala/lab24.ipynb:6"
     ]
    }
   ],
   "source": [
    "t0 = 0\n",
    "T = 86164\n",
    "n = 400\n",
    "h = T/n\n",
    "\n",
    "tt,uu=RK4(u0, t0, T, n, p, f)\n",
    "\n",
    "xx = uu[:, 1]\n",
    "yy = uu[:, 2]\n",
    "zz = uu[:, 3]\n",
    "\n",
    "plot(tt,xx, title = \"Planetaren orbitaren eboluzioa\")\n",
    "plot!(tt,yy)\n",
    "plot!(tt,zz)"
   ]
  },
  {
   "cell_type": "markdown",
   "metadata": {},
   "source": [
    "- **Aurreko emaitzei dagokien sistemaren energiaren $[0,T]$ denbora tarteko eboluzioa irudikatu.**"
   ]
  },
  {
   "cell_type": "code",
   "execution_count": null,
   "metadata": {},
   "outputs": [],
   "source": []
  },
  {
   "cell_type": "markdown",
   "metadata": {},
   "source": [
    "- Berez, sistemaren energia konstante mantendu beharko litzateke. Baina RK4-en metodoarekin lortutako emaitzetarako, ez da hala gertaten. **Zergaitik uste duzu gertatu dela hori?** \n",
    "\n",
    "_Soluzioa kalkulatzeko zenbakizko metodo bat erabili dugunez (RK4 metodoa), soluzioa zehazki ez dugulako kalkulatzen. Energiaren gorabeherak egindako errorearen isla dira._"
   ]
  },
  {
   "cell_type": "markdown",
   "metadata": {},
   "source": [
    "- Sistemaren energiaren $t$ unean ($E(t)$) eta 0 unean ($E(0)$) berdina izan beharko luke. Aldiz, zenbakizko metodoarekin lortutako energiak ez dira berdinak. Bien arteko diferentzia erlatiboari $|E(t)-E(0)|/|E(0)|$ energia errorea deituko diogu. Ondoren (3) unetarako satelitearen egoerak kalkulatzeko RK4 metodoa aplikatuko dugu hiru modu desberdinetan: $h=T/400$ urrats luzerarekin, $h=T/800$ urrats luzerarekin, eta $h=T/1600$ urrats luzerarekin. **Irudi berean marraztu hiru zenbakizko hurbilpen horien energia erroreen eboluzioa $[0,T]$ denbora tartean.**"
   ]
  },
  {
   "cell_type": "code",
   "execution_count": null,
   "metadata": {},
   "outputs": [],
   "source": []
  },
  {
   "cell_type": "markdown",
   "metadata": {},
   "source": [
    "- Urrats luzera txikitzean, energia errorea txikitu egiten da. **Urrats luzera zati bi egitean, zenbat txikitzen dira energia erroreak?**\n",
    "\n",
    "_Erroreak gutxi gorabehera zati 16 egiten direla dirudi. RK4 metodoa 4 ordenakoa denez, erroreak $h^4$-ren proportzionalak direlako dela dirudi._"
   ]
  },
  {
   "cell_type": "markdown",
   "metadata": {},
   "source": [
    "- Energia erroreak gutxi gorabehera $h^4$-ren proportzionala diren ala ez egiaztatzeko, **grafikoki irudikatu, irudi berean, azkenengo hiru zenbakizko hurbilpenen (RK4 metodoarekin lortutakoen) energia erroreak zati $h^4$ ($h$, kasu bakoitzean erabilitako urrats luzera delarik).**"
   ]
  },
  {
   "cell_type": "code",
   "execution_count": null,
   "metadata": {},
   "outputs": [],
   "source": []
  },
  {
   "cell_type": "markdown",
   "metadata": {},
   "source": [
    "- **Hiru grafikoak antzekoak izan beharko lukete. Zergaitik?**\n",
    "\n",
    "_Erantzuna hemen idatzi_\n",
    "\n",
    "\n",
    "- Hiru grafikoak antzekoak ez badira, seinale RK4 metodoaren inplementazioa ez dela zuzena. Kasu horretan, bilatu egindako inplementazio errorea, zuzendu, eta hortik aurrerako kalkuluak errepikatu, hiru grafiko hauek antzekoak izan arte."
   ]
  },
  {
   "cell_type": "markdown",
   "metadata": {},
   "source": [
    "- Orain arte lortutako emaitza onenak erabiliz, **irudikatu $[0,T]$ denbora tarteko satelitearen orbitaren proiekzioa OXY planoan.**"
   ]
  },
  {
   "cell_type": "code",
   "execution_count": null,
   "metadata": {},
   "outputs": [],
   "source": []
  },
  {
   "cell_type": "markdown",
   "metadata": {},
   "source": [
    "- Egindako kalkuluen fidagarritasuna aztertzeko, egindako erroreak estimatuko ditugu, horretarako aurretik kalkulatutako (3) unetarako bi hurbilpen desberdin erabiliko ditugularik: Bata, $h=T/800$ urrats luzerarekin, eta bestea $h=T/1600$ urrats luzerarekin. Bi hurbilpen horiek erabiliz, **hurbilpen onenaren erroreak estimatu, eta grafiko berean irudikatu $x$ koordenatuarekiko errorearen, $y$ koordenatuarekiko errorearen, eta $z$ koordenatuarekiko errorearen eboluzioak, (3) unetarako.**"
   ]
  },
  {
   "cell_type": "code",
   "execution_count": null,
   "metadata": {},
   "outputs": [],
   "source": []
  },
  {
   "cell_type": "markdown",
   "metadata": {},
   "source": [
    "- **Erroreen estimazioak nolakoak diren ikusita, OXY planoan proiektatuta irudikatu dugun orbitaren itxura zuzena dela iruditzen al zaizu, ala egindako erroreen eragin haundiegia duela iruditzen zaizu?**\n",
    "\n",
    "_Erantzuna hemen idatzi_"
   ]
  },
  {
   "cell_type": "markdown",
   "metadata": {},
   "source": [
    "- Orain demagun epe luzeragorako nahi dugula kalkulatu satelitearen egoera zein izango den,  konkretuki,  \n",
    "\\begin{equation*}\n",
    "t=366\\,j\\, T, \\quad j=1,2,\\ldots,10 \\qquad (4)\n",
    "\\end{equation*}\n",
    " unetarako. ($366T$ segundu gutxi gorabehera urtebete da. Beraz, urtetik urtera hamar urtez satelitearen egoera nola aldatzen den ikusi nahi dugu.) \n",
    "**RK4 metodoa aplikatu h=T/1600  urrats luzerarekin, (4) unetarako satelitearen egoera zein den kalkulatzeko.**"
   ]
  },
  {
   "cell_type": "code",
   "execution_count": null,
   "metadata": {},
   "outputs": [],
   "source": []
  },
  {
   "cell_type": "markdown",
   "metadata": {},
   "source": [
    "- Hamar urteetan zehar orbita nola aldatuko den ikusteko, (4) unetako bakoitzerako satelitearen egoeretatik abiatuz,  orbita bana marraztuko dugu: **RK4 metodoa $h=T/1600$ urrats luzerarekin aplikatuz, kalkulatu $j=0,1,\\ldots,10$ bakoitzerako,  $[366\\, j\\, T,(366\\, j +1)T]$ denbora tarteko $101$  unetarako satelitearen kokapenak. Eta irudi berean marraztu satelitearen orbita horietako bakoitzaren proiekzioa OXY planoan.**"
   ]
  },
  {
   "cell_type": "code",
   "execution_count": null,
   "metadata": {},
   "outputs": [],
   "source": []
  },
  {
   "cell_type": "markdown",
   "metadata": {},
   "source": [
    "Orbitari gertatzen zaion aldaketa horri, prezesioa deitzen zaio."
   ]
  },
  {
   "cell_type": "markdown",
   "metadata": {},
   "source": [
    "Emaitzen fidagarritasuna aztertzeko, egin diren erroreak estimatuko ditugu, horretarako, (4) unetarako bi hurbilpen desberdin erabiliko ditugularik: Bata, $h=T/800$ urrats luzerarekin, eta bestea $h=T/1600$ urrats luzerarekin. Bi hurbilpen horiek erabiliz, **hurbilpen onenaren erroreak estimatu, eta grafiko berean irudikatu $x$ koordenatuarekiko errorearen, $y$ koordenatuarekiko errorearen, eta $z$ koordenatuarekiko errorearen eboluzioak, (4) unetarako.**"
   ]
  },
  {
   "cell_type": "code",
   "execution_count": null,
   "metadata": {},
   "outputs": [],
   "source": []
  },
  {
   "cell_type": "markdown",
   "metadata": {},
   "source": [
    "- **Erroreen tamainia ikusita, lortutako emaitzak fidagarriak direla uste al duzu? Konkretuki, urtez urtez ikusi dugun orbiten aldaketa benetakoa ote da, ala metodoaren erroreen eraginez gertatuko ote zen?**\n",
    "\n",
    "_Erantzun arrazoitua hemen idatzi_"
   ]
  },
  {
   "cell_type": "code",
   "execution_count": null,
   "metadata": {},
   "outputs": [],
   "source": []
  }
 ],
 "metadata": {
  "kernelspec": {
   "display_name": "Julia 1.8.0",
   "language": "julia",
   "name": "julia-1.8"
  },
  "language_info": {
   "file_extension": ".jl",
   "mimetype": "application/julia",
   "name": "julia",
   "version": "1.8.0"
  }
 },
 "nbformat": 4,
 "nbformat_minor": 2
}
